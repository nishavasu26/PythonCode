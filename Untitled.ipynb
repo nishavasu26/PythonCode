{
 "cells": [
  {
   "cell_type": "code",
   "execution_count": null,
   "id": "0ed1c21a-6b49-44e0-a753-a907fb5cb9bb",
   "metadata": {},
   "outputs": [],
   "source": []
  },
  {
   "cell_type": "code",
   "execution_count": 13,
   "id": "954bc756-eba3-47a2-8959-834dcb7e7818",
   "metadata": {},
   "outputs": [],
   "source": [
    "a=[10,20,30,40]\n"
   ]
  },
  {
   "cell_type": "code",
   "execution_count": 15,
   "id": "6d4c7fd6-3ca4-4aa4-b9b8-3f68ffa65dbf",
   "metadata": {},
   "outputs": [
    {
     "name": "stdout",
     "output_type": "stream",
     "text": [
      "10 20 30 40 "
     ]
    }
   ],
   "source": [
    "# what is the way to print all the elements in the list \n",
    "for i in a:\n",
    "    print(i,end=' ')"
   ]
  },
  {
   "cell_type": "code",
   "execution_count": 17,
   "id": "a26e669c-75b5-495a-814d-a331b02f5da6",
   "metadata": {},
   "outputs": [
    {
     "name": "stdout",
     "output_type": "stream",
     "text": [
      "value found\n"
     ]
    }
   ],
   "source": [
    "# nee to check whether element 30 is present in the above list or not \n",
    "for i in a:\n",
    "    if i==30:\n",
    "        print(\"value found\")\n",
    "        break\n",
    "else:\n",
    "    print(\"value not found\")\n",
    "   "
   ]
  },
  {
   "cell_type": "code",
   "execution_count": 19,
   "id": "72204468-e7a6-4621-ac7f-ad0714225ac6",
   "metadata": {},
   "outputs": [
    {
     "data": {
      "text/plain": [
       "True"
      ]
     },
     "execution_count": 19,
     "metadata": {},
     "output_type": "execute_result"
    }
   ],
   "source": [
    "30 in a "
   ]
  },
  {
   "cell_type": "code",
   "execution_count": 27,
   "id": "b5707ee8-9f34-41f2-a38d-fce6ec490947",
   "metadata": {},
   "outputs": [
    {
     "name": "stdout",
     "output_type": "stream",
     "text": [
      "2\n"
     ]
    }
   ],
   "source": [
    "# write a python code to find the index value of a number 30 in the list a (a=10,20,30,40))\n",
    "for i in range(len(a)):\n",
    "    if a[i]==30:\n",
    "        print(i)\n",
    "        break"
   ]
  },
  {
   "cell_type": "code",
   "execution_count": 29,
   "id": "edb1b1c3-7113-4977-88d1-c82b52f0613c",
   "metadata": {},
   "outputs": [
    {
     "ename": "SyntaxError",
     "evalue": "invalid syntax (445516984.py, line 1)",
     "output_type": "error",
     "traceback": [
      "\u001b[1;36m  Cell \u001b[1;32mIn[29], line 1\u001b[1;36m\u001b[0m\n\u001b[1;33m    what will e the index value of 80\u001b[0m\n\u001b[1;37m         ^\u001b[0m\n\u001b[1;31mSyntaxError\u001b[0m\u001b[1;31m:\u001b[0m invalid syntax\n"
     ]
    }
   ],
   "source": [
    "what will e the index value of 80\n",
    "items=[10,20,30,40,50,60,70,80]\n"
   ]
  },
  {
   "cell_type": "code",
   "execution_count": 31,
   "id": "39bb466d-06f9-4e61-a95b-7bf68c388f9a",
   "metadata": {},
   "outputs": [
    {
     "name": "stdout",
     "output_type": "stream",
     "text": [
      "7\n"
     ]
    }
   ],
   "source": [
    "items=[10,20,30,40,50,60,70,80]\n",
    "print(items.index(80))"
   ]
  },
  {
   "cell_type": "code",
   "execution_count": null,
   "id": "e84efd1b-6aca-45c0-a2d4-4b635df08231",
   "metadata": {},
   "outputs": [],
   "source": [
    "#size of the list is known \n",
    "list_1=[1,2,12,6,10,67,91,99,26,7,18,11,98,27,3,15,22,21,23]\n"
   ]
  },
  {
   "cell_type": "code",
   "execution_count": 33,
   "id": "55a4e618-7678-4850-b685-ee31562c0b18",
   "metadata": {},
   "outputs": [
    {
     "ename": "NameError",
     "evalue": "name 'list_1' is not defined",
     "output_type": "error",
     "traceback": [
      "\u001b[1;31m---------------------------------------------------------------------------\u001b[0m",
      "\u001b[1;31mNameError\u001b[0m                                 Traceback (most recent call last)",
      "Cell \u001b[1;32mIn[33], line 1\u001b[0m\n\u001b[1;32m----> 1\u001b[0m list_1[\u001b[38;5;241m-\u001b[39m\u001b[38;5;241m19\u001b[39m]\n",
      "\u001b[1;31mNameError\u001b[0m: name 'list_1' is not defined"
     ]
    }
   ],
   "source": [
    "list_1[-19]"
   ]
  },
  {
   "cell_type": "code",
   "execution_count": 89,
   "id": "6d88b04a-9bb8-4296-9c6c-6db6a67fb03c",
   "metadata": {},
   "outputs": [
    {
     "name": "stdout",
     "output_type": "stream",
     "text": [
      "[1, 'ABC', 84.9, 'a', 'e']\n"
     ]
    }
   ],
   "source": [
    "information= [1,\"ABC\",84.9,'a','e']\n",
    "print(information)"
   ]
  },
  {
   "cell_type": "code",
   "execution_count": 37,
   "id": "0609a1c1-905e-4e3a-aded-8cf85952877c",
   "metadata": {},
   "outputs": [
    {
     "data": {
      "text/plain": [
       "'ABC'"
      ]
     },
     "execution_count": 37,
     "metadata": {},
     "output_type": "execute_result"
    }
   ],
   "source": [
    "information[1]"
   ]
  },
  {
   "cell_type": "code",
   "execution_count": 91,
   "id": "e654a288-304f-440a-93da-119f60e94033",
   "metadata": {},
   "outputs": [
    {
     "name": "stdout",
     "output_type": "stream",
     "text": [
      "[1, 'ABC', 84.9, 'a', 'e', 'nisha']\n"
     ]
    }
   ],
   "source": [
    "information.append('nisha')\n",
    "print(information)"
   ]
  },
  {
   "cell_type": "code",
   "execution_count": 93,
   "id": "df2d27af-9cab-43f5-8276-1d541753a1b8",
   "metadata": {},
   "outputs": [
    {
     "data": {
      "text/plain": [
       "[1,\n",
       " 'ABC',\n",
       " 84.9,\n",
       " 'a',\n",
       " 'e',\n",
       " 'nisha',\n",
       " 1,\n",
       " 'ABC',\n",
       " 84.9,\n",
       " 'a',\n",
       " 'e',\n",
       " 'nisha',\n",
       " 1,\n",
       " 'ABC',\n",
       " 84.9,\n",
       " 'a',\n",
       " 'e',\n",
       " 'nisha',\n",
       " 1,\n",
       " 'ABC',\n",
       " 84.9,\n",
       " 'a',\n",
       " 'e',\n",
       " 'nisha',\n",
       " 1,\n",
       " 'ABC',\n",
       " 84.9,\n",
       " 'a',\n",
       " 'e',\n",
       " 'nisha',\n",
       " 1,\n",
       " 'ABC',\n",
       " 84.9,\n",
       " 'a',\n",
       " 'e',\n",
       " 'nisha',\n",
       " 1,\n",
       " 'ABC',\n",
       " 84.9,\n",
       " 'a',\n",
       " 'e',\n",
       " 'nisha',\n",
       " 1,\n",
       " 'ABC',\n",
       " 84.9,\n",
       " 'a',\n",
       " 'e',\n",
       " 'nisha']"
      ]
     },
     "execution_count": 93,
     "metadata": {},
     "output_type": "execute_result"
    }
   ],
   "source": [
    "information*8"
   ]
  },
  {
   "cell_type": "code",
   "execution_count": 95,
   "id": "cdac69d7-0eed-4978-aae5-b7f981bb8ebe",
   "metadata": {},
   "outputs": [
    {
     "data": {
      "text/plain": [
       "[1, 'ABC', 84.9, 'a', 'e', 'nisha']"
      ]
     },
     "execution_count": 95,
     "metadata": {},
     "output_type": "execute_result"
    }
   ],
   "source": [
    "information"
   ]
  },
  {
   "cell_type": "code",
   "execution_count": 97,
   "id": "0d2a091a-d642-4d82-96b2-de7c3de77ac7",
   "metadata": {},
   "outputs": [],
   "source": [
    "information[1]= \"XYZ\""
   ]
  },
  {
   "cell_type": "code",
   "execution_count": 99,
   "id": "d782e4e4-4983-4cbe-a26c-0471849f31b6",
   "metadata": {},
   "outputs": [
    {
     "data": {
      "text/plain": [
       "[1, 'XYZ', 84.9, 'a', 'e', 'nisha']"
      ]
     },
     "execution_count": 99,
     "metadata": {},
     "output_type": "execute_result"
    }
   ],
   "source": [
    "information"
   ]
  },
  {
   "cell_type": "code",
   "execution_count": 101,
   "id": "5974c3a8-5dcc-4175-afbc-ac3e861125b8",
   "metadata": {},
   "outputs": [
    {
     "ename": "SyntaxError",
     "evalue": "invalid syntax (31800207.py, line 2)",
     "output_type": "error",
     "traceback": [
      "\u001b[1;36m  Cell \u001b[1;32mIn[101], line 2\u001b[1;36m\u001b[0m\n\u001b[1;33m    how to access the output of the following\u001b[0m\n\u001b[1;37m        ^\u001b[0m\n\u001b[1;31mSyntaxError\u001b[0m\u001b[1;31m:\u001b[0m invalid syntax\n"
     ]
    }
   ],
   "source": [
    "# slicing operator \n",
    "how to access the output of the following \n",
    "\n",
    "information[0:2]\n"
   ]
  },
  {
   "cell_type": "raw",
   "id": "3fc0729b-aa6a-4210-9fa3-223a5d741a2c",
   "metadata": {},
   "source": [
    "information [1:]"
   ]
  },
  {
   "cell_type": "markdown",
   "id": "949ae11f-20de-4191-8b55-8bcae7848247",
   "metadata": {},
   "source": []
  },
  {
   "cell_type": "code",
   "execution_count": 103,
   "id": "ca269fa7-60c2-4cf3-8130-f2e0e4c8e274",
   "metadata": {},
   "outputs": [
    {
     "data": {
      "text/plain": [
       "['XYZ', 'a', 'nisha']"
      ]
     },
     "execution_count": 103,
     "metadata": {},
     "output_type": "execute_result"
    }
   ],
   "source": [
    "information[1:6:2]"
   ]
  },
  {
   "cell_type": "code",
   "execution_count": 119,
   "id": "19abd8c7-8ead-47cd-9319-6dcc4bad721a",
   "metadata": {},
   "outputs": [],
   "source": [
    "student_2=[\"stu\",8.58,\"female\",\"9741917138\"]\n"
   ]
  },
  {
   "cell_type": "code",
   "execution_count": 121,
   "id": "2c020e25-71e7-4fcb-b625-387befb4c8b5",
   "metadata": {},
   "outputs": [
    {
     "data": {
      "text/plain": [
       "['9741917138', 'stu']"
      ]
     },
     "execution_count": 121,
     "metadata": {},
     "output_type": "execute_result"
    }
   ],
   "source": [
    "student_2 [: :-3]"
   ]
  },
  {
   "cell_type": "code",
   "execution_count": 125,
   "id": "f3ab94f5-1cd0-4c65-81fb-d13ec54248b1",
   "metadata": {},
   "outputs": [
    {
     "data": {
      "text/plain": [
       "['stu', 'female']"
      ]
     },
     "execution_count": 125,
     "metadata": {},
     "output_type": "execute_result"
    }
   ],
   "source": [
    "student_2[::2]"
   ]
  },
  {
   "cell_type": "code",
   "execution_count": 133,
   "id": "014ed647-1414-4997-91a8-fb057a9f14c6",
   "metadata": {},
   "outputs": [
    {
     "ename": "SyntaxError",
     "evalue": "invalid syntax (3372816113.py, line 2)",
     "output_type": "error",
     "traceback": [
      "\u001b[1;36m  Cell \u001b[1;32mIn[133], line 2\u001b[1;36m\u001b[0m\n\u001b[1;33m    without using decision making statements\u001b[0m\n\u001b[1;37m            ^\u001b[0m\n\u001b[1;31mSyntaxError\u001b[0m\u001b[1;31m:\u001b[0m invalid syntax\n"
     ]
    }
   ],
   "source": [
    "# write a python code to create a list of first 10 odd elemensts\n",
    "without using decision making statements\n",
    "\n",
    "odd_numbers = [2 * i + 1 for i in range(10)]\n",
    "print(odd_numbers)"
   ]
  },
  {
   "cell_type": "code",
   "execution_count": 131,
   "id": "6e8b1b65-dafd-45d6-81b5-6cfa510f22ad",
   "metadata": {},
   "outputs": [
    {
     "ename": "SyntaxError",
     "evalue": "invalid syntax (576207810.py, line 1)",
     "output_type": "error",
     "traceback": [
      "\u001b[1;36m  Cell \u001b[1;32mIn[131], line 1\u001b[1;36m\u001b[0m\n\u001b[1;33m    write a python code to createa list of 1 to 10 elements and from the list ,create another list with only odd values\u001b[0m\n\u001b[1;37m          ^\u001b[0m\n\u001b[1;31mSyntaxError\u001b[0m\u001b[1;31m:\u001b[0m invalid syntax\n"
     ]
    }
   ],
   "source": [
    "write a python code to createa list of 1 to 10 elements and from the list ,create another list with only odd values \n"
   ]
  },
  {
   "cell_type": "code",
   "execution_count": 135,
   "id": "de4cd33f-e70d-4278-b56e-cb4939de1cd4",
   "metadata": {},
   "outputs": [
    {
     "name": "stdout",
     "output_type": "stream",
     "text": [
      "[1, 3, 5, 7, 9, 11, 13, 15, 17, 19]\n"
     ]
    }
   ],
   "source": [
    "# 1\n",
    "odd_numbers = list(map(lambda x: 2 * x + 1, range(10)))\n",
    "\n",
    "print(odd_numbers)"
   ]
  },
  {
   "cell_type": "code",
   "execution_count": 137,
   "id": "14247938-82bb-4568-8484-fc928c64203e",
   "metadata": {},
   "outputs": [
    {
     "name": "stdout",
     "output_type": "stream",
     "text": [
      "Original List: [1, 2, 3, 4, 5, 6, 7, 8, 9, 10]\n",
      "List of Odd Numbers: [1, 3, 5, 7, 9]\n"
     ]
    }
   ],
   "source": [
    "# Step 1: Create a list of numbers from 1 to 10\n",
    "numbers = list(range(1, 11))\n",
    "\n",
    "# Step 2: Create another list with only odd values using list comprehension and arithmetic\n",
    "odd_numbers = [numbers[i] for i in range(len(numbers)) if numbers[i] % 2 != 0]\n",
    "\n",
    "# Display the result\n",
    "print(\"Original List:\", numbers)\n",
    "print(\"List of Odd Numbers:\", odd_numbers)"
   ]
  },
  {
   "cell_type": "code",
   "execution_count": 139,
   "id": "c6a9d32b-5c4a-421a-8d4f-a262f4db8285",
   "metadata": {},
   "outputs": [
    {
     "name": "stdout",
     "output_type": "stream",
     "text": [
      "Original List: [1, 2, 3, 4, 5, 6, 7, 8, 9, 10]\n",
      "List of Even Numbers: [2, 4, 6, 8, 10]\n"
     ]
    }
   ],
   "source": [
    "# Step 1: Create a list of numbers from 1 to 10\n",
    "numbers = list(range(1, 11))\n",
    "\n",
    "# Step 2: Create another list with only even values using list comprehension\n",
    "even_numbers = [num for num in numbers if num % 2 == 0]\n",
    "\n",
    "# Display the result\n",
    "print(\"Original List:\", numbers)\n",
    "print(\"List of Even Numbers:\", even_numbers)"
   ]
  },
  {
   "cell_type": "code",
   "execution_count": null,
   "id": "8b9feed7-6fcd-4fca-8154-1f0c2fdd1117",
   "metadata": {},
   "outputs": [],
   "source": [
    "#4 write a python code to create list which extract elememnt from the string given by user "
   ]
  },
  {
   "cell_type": "code",
   "execution_count": 141,
   "id": "cd22f837-a200-4f02-b01a-4f0092996694",
   "metadata": {},
   "outputs": [
    {
     "name": "stdin",
     "output_type": "stream",
     "text": [
      "Enter a string:  nisha \n"
     ]
    },
    {
     "name": "stdout",
     "output_type": "stream",
     "text": [
      "List of characters: ['n', 'i', 's', 'h', 'a', ' ']\n"
     ]
    }
   ],
   "source": [
    "# Step 1: Take input from the user\n",
    "user_input = input(\"Enter a string: \")\n",
    "\n",
    "# Step 2: Convert the string into a list of characters\n",
    "char_list = list(user_input)\n",
    "\n",
    "# Display the resulting list\n",
    "print(\"List of characters:\", char_list)\n"
   ]
  },
  {
   "cell_type": "code",
   "execution_count": 147,
   "id": "aa1c0834-0516-4996-b929-05be072c259f",
   "metadata": {},
   "outputs": [
    {
     "ename": "TypeError",
     "evalue": "unsupported operand type(s) for +: 'type' and 'type'",
     "output_type": "error",
     "traceback": [
      "\u001b[1;31m---------------------------------------------------------------------------\u001b[0m",
      "\u001b[1;31mTypeError\u001b[0m                                 Traceback (most recent call last)",
      "Cell \u001b[1;32mIn[147], line 1\u001b[0m\n\u001b[1;32m----> 1\u001b[0m merged\u001b[38;5;241m=\u001b[39m\u001b[38;5;28mlist\u001b[39m\u001b[38;5;241m+\u001b[39m\u001b[38;5;28mlist\u001b[39m\n\u001b[0;32m      2\u001b[0m merged\n",
      "\u001b[1;31mTypeError\u001b[0m: unsupported operand type(s) for +: 'type' and 'type'"
     ]
    }
   ],
   "source": [
    "merged=list+list\n",
    "merged"
   ]
  },
  {
   "cell_type": "code",
   "execution_count": 149,
   "id": "bba98d59-7b58-4b6e-b47a-6ef4a88009bd",
   "metadata": {},
   "outputs": [
    {
     "name": "stdin",
     "output_type": "stream",
     "text": [
      "Enter elements for the first list, separated by spaces:  nisha\n",
      "Enter elements for the second list, separated by spaces:  mojo\n"
     ]
    },
    {
     "name": "stdout",
     "output_type": "stream",
     "text": [
      "Combined List: ['nisha', 'mojo']\n"
     ]
    }
   ],
   "source": [
    "# wirte a python program to get the input from the user for creating two list and add the elements of one listinto the other\n",
    "\n",
    "# Step 1: Get input from the user for the first list\n",
    "list1_input = input(\"Enter elements for the first list, separated by spaces: \")\n",
    "list1 = list1_input.split()  # Split input string into list of elements\n",
    "\n",
    "# Step 2: Get input from the user for the second list\n",
    "list2_input = input(\"Enter elements for the second list, separated by spaces: \")\n",
    "list2 = list2_input.split()  # Split input string into list of elements\n",
    "\n",
    "# Step 3: Add elements of the second list to the first list\n",
    "list1.extend(list2)\n",
    "\n",
    "# Display the resulting combined list\n",
    "print(\"Combined List:\", list1)\n"
   ]
  },
  {
   "cell_type": "code",
   "execution_count": 151,
   "id": "aedc484c-070e-45f3-839d-07a22cb7e3ad",
   "metadata": {},
   "outputs": [
    {
     "ename": "SyntaxError",
     "evalue": "invalid syntax (3866849577.py, line 1)",
     "output_type": "error",
     "traceback": [
      "\u001b[1;36m  Cell \u001b[1;32mIn[151], line 1\u001b[1;36m\u001b[0m\n\u001b[1;33m    Enter elements for the first list, separated by spaces: 1 2 3\u001b[0m\n\u001b[1;37m          ^\u001b[0m\n\u001b[1;31mSyntaxError\u001b[0m\u001b[1;31m:\u001b[0m invalid syntax\n"
     ]
    }
   ],
   "source": [
    "Enter elements for the first list, separated by spaces: 1 2 3\n",
    "Enter elements for the second list, separated by spaces: 4 5 6\n",
    "Combined List: ['1', '2', '3', '4', '5', '6']\n"
   ]
  },
  {
   "cell_type": "code",
   "execution_count": 155,
   "id": "031e38f0-d1d1-4afe-b932-311b8cfba8a0",
   "metadata": {},
   "outputs": [
    {
     "name": "stdin",
     "output_type": "stream",
     "text": [
      "Enter elements for the first list, separated by spaces:  mojo\n"
     ]
    },
    {
     "ename": "ValueError",
     "evalue": "invalid literal for int() with base 10: 'mojo'",
     "output_type": "error",
     "traceback": [
      "\u001b[1;31m---------------------------------------------------------------------------\u001b[0m",
      "\u001b[1;31mValueError\u001b[0m                                Traceback (most recent call last)",
      "Cell \u001b[1;32mIn[155], line 3\u001b[0m\n\u001b[0;32m      1\u001b[0m \u001b[38;5;66;03m# Step 1: Get input from the user for the first list and convert to integers\u001b[39;00m\n\u001b[0;32m      2\u001b[0m list1_input \u001b[38;5;241m=\u001b[39m \u001b[38;5;28minput\u001b[39m(\u001b[38;5;124m\"\u001b[39m\u001b[38;5;124mEnter elements for the first list, separated by spaces: \u001b[39m\u001b[38;5;124m\"\u001b[39m)\n\u001b[1;32m----> 3\u001b[0m list1 \u001b[38;5;241m=\u001b[39m [\u001b[38;5;28mint\u001b[39m(x) \u001b[38;5;28;01mfor\u001b[39;00m x \u001b[38;5;129;01min\u001b[39;00m list1_input\u001b[38;5;241m.\u001b[39msplit()]\n\u001b[0;32m      5\u001b[0m \u001b[38;5;66;03m# Step 2: Get input from the user for the second list and convert to integers\u001b[39;00m\n\u001b[0;32m      6\u001b[0m list2_input \u001b[38;5;241m=\u001b[39m \u001b[38;5;28minput\u001b[39m(\u001b[38;5;124m\"\u001b[39m\u001b[38;5;124mEnter elements for the second list, separated by spaces: \u001b[39m\u001b[38;5;124m\"\u001b[39m)\n",
      "\u001b[1;31mValueError\u001b[0m: invalid literal for int() with base 10: 'mojo'"
     ]
    }
   ],
   "source": [
    "Enter elements for the first list, separated by spaces: 1 2 3\n",
    "Enter elements for the second list, separated by spaces: 4 5 6\n",
    "Combined List: [1, 2, 3, 4, 5, 6]\n",
    "\n"
   ]
  },
  {
   "cell_type": "code",
   "execution_count": 157,
   "id": "20369df8-5e5d-4a05-94ca-76ea2b762048",
   "metadata": {},
   "outputs": [
    {
     "ename": "SyntaxError",
     "evalue": "invalid syntax (4125207078.py, line 1)",
     "output_type": "error",
     "traceback": [
      "\u001b[1;36m  Cell \u001b[1;32mIn[157], line 1\u001b[1;36m\u001b[0m\n\u001b[1;33m    Enter elements for the first list, separated by spaces: 1 2 3\u001b[0m\n\u001b[1;37m          ^\u001b[0m\n\u001b[1;31mSyntaxError\u001b[0m\u001b[1;31m:\u001b[0m invalid syntax\n"
     ]
    }
   ],
   "source": [
    "Enter elements for the first list, separated by spaces: 1 2 3\n",
    "Enter elements for the second list, separated by spaces: 4 5 6\n",
    "Combined List: [1, 2, 3, 4, 5, 6]\n"
   ]
  },
  {
   "cell_type": "code",
   "execution_count": null,
   "id": "d28b7b26-3034-498f-9f6a-1043c26c1c71",
   "metadata": {},
   "outputs": [],
   "source": []
  }
 ],
 "metadata": {
  "kernelspec": {
   "display_name": "Python 3 (ipykernel)",
   "language": "python",
   "name": "python3"
  },
  "language_info": {
   "codemirror_mode": {
    "name": "ipython",
    "version": 3
   },
   "file_extension": ".py",
   "mimetype": "text/x-python",
   "name": "python",
   "nbconvert_exporter": "python",
   "pygments_lexer": "ipython3",
   "version": "3.12.7"
  }
 },
 "nbformat": 4,
 "nbformat_minor": 5
}
