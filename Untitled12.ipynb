{
 "cells": [
  {
   "cell_type": "code",
   "execution_count": 7,
   "id": "9b39d787-14ac-4524-97f8-9f11b925a0d7",
   "metadata": {},
   "outputs": [
    {
     "name": "stdout",
     "output_type": "stream",
     "text": [
      "{0, 1, 4, 9, 16}\n"
     ]
    }
   ],
   "source": [
    "squares = {x**2 for x in range(5)}\n",
    "print(squares)"
   ]
  },
  {
   "cell_type": "code",
   "execution_count": 12,
   "id": "dd733625-8954-40c8-baeb-583dca9b41af",
   "metadata": {},
   "outputs": [
    {
     "name": "stdout",
     "output_type": "stream",
     "text": [
      "[1, 4, 9, 16, 25]\n"
     ]
    }
   ],
   "source": [
    "numbers=[1,2,3,4,5]\n",
    "squared_numbers=[x**2 for x in numbers]\n",
    "print(squared_numbers)"
   ]
  },
  {
   "cell_type": "code",
   "execution_count": 16,
   "id": "ea58a7e3-3553-4f3e-bf35-a686a3ebb682",
   "metadata": {},
   "outputs": [
    {
     "name": "stdout",
     "output_type": "stream",
     "text": [
      "{2, 4}\n"
     ]
    }
   ],
   "source": [
    "numbers=[1,2,3,4,5]\n",
    "even_numbers={x for x in numbers if x % 2==0}\n",
    "print(even_numbers)"
   ]
  },
  {
   "cell_type": "code",
   "execution_count": 28,
   "id": "9566a628-203c-4ed7-b53e-0ee28bdd8347",
   "metadata": {},
   "outputs": [
    {
     "name": "stdout",
     "output_type": "stream",
     "text": [
      "{'apple', 'cherry', 'banana'}\n"
     ]
    }
   ],
   "source": [
    "# using a set comprehension \n",
    "words = ['apple','banana','cherry','lyn']\n",
    "vowels = {'a','e','i','o','u'}\n",
    "vowels_word={word for word in words if any(letter in vowels for letter in word)}\n",
    "print(vowels_word)"
   ]
  },
  {
   "cell_type": "code",
   "execution_count": 32,
   "id": "015dd44c-b0fa-410d-bc56-ce3a86072860",
   "metadata": {},
   "outputs": [
    {
     "name": "stdout",
     "output_type": "stream",
     "text": [
      "{1, 4, 36, 9, 16, 25}\n"
     ]
    }
   ],
   "source": [
    "# eliminating duplicates\n",
    "duplicates=[1,2,3,3,4,5,1,6]\n",
    "unique_squares={x**2 for x in duplicates}\n",
    "print(unique_squares)"
   ]
  },
  {
   "cell_type": "code",
   "execution_count": 36,
   "id": "b972987a-54ee-4af4-9bcf-a95b0f9fb6d1",
   "metadata": {},
   "outputs": [
    {
     "name": "stdout",
     "output_type": "stream",
     "text": [
      "{'L', 'O', 'D', 'E', 'R', 'W', 'H'}\n"
     ]
    }
   ],
   "source": [
    "# uppecase letters from a string \n",
    "text=\"hello world\"\n",
    "uppercase_letters={char.upper() for char in text if char.isalpha()}\n",
    "print(uppercase_letters)"
   ]
  },
  {
   "cell_type": "code",
   "execution_count": 38,
   "id": "385babeb-6e9f-4492-88f3-e0d61b79a784",
   "metadata": {},
   "outputs": [
    {
     "name": "stdout",
     "output_type": "stream",
     "text": [
      "{0: 0, 1: 1, 2: 4, 3: 9, 4: 16}\n"
     ]
    }
   ],
   "source": [
    "# basic dict comprehension\n",
    "squares={x:x**2 for x in range (5)}\n",
    "print(squares)"
   ]
  },
  {
   "cell_type": "code",
   "execution_count": 40,
   "id": "96ad4561-5127-43d2-8506-4881a89a12db",
   "metadata": {},
   "outputs": [
    {
     "name": "stdout",
     "output_type": "stream",
     "text": [
      "{0: 0, 2: 8, 4: 64, 6: 216, 8: 512}\n"
     ]
    }
   ],
   "source": [
    "# create a dictionary where the keys are even numbers and the values are theiw cubes\n",
    "cubes={x:x**3 for x in range(10) if x % 2==0}\n",
    "print(cubes)"
   ]
  },
  {
   "cell_type": "code",
   "execution_count": 44,
   "id": "170435cc-c55f-43b4-88e0-e46038c62dc6",
   "metadata": {},
   "outputs": [
    {
     "name": "stdout",
     "output_type": "stream",
     "text": [
      "{'a': 1, 'b': 2, 'c': 3}\n"
     ]
    }
   ],
   "source": [
    "#using two lists \n",
    "keys = ['a','b','c']\n",
    "values = [1,2,3]\n",
    "my_dict={keys[i]:values[i] for i in range(len(keys))}\n",
    "range(len(keys))\n",
    "print(my_dict)"
   ]
  },
  {
   "cell_type": "code",
   "execution_count": 48,
   "id": "7609dbfe-9ef3-4a35-bc3e-eaa973e4c5af",
   "metadata": {},
   "outputs": [
    {
     "name": "stdout",
     "output_type": "stream",
     "text": [
      "{1: 'a', 2: 'b', 3: 'c'}\n"
     ]
    }
   ],
   "source": [
    "#swapping\n",
    "original={'a':1,'b':2,'c':3}\n",
    "swapped={v:k for k, v in original.items()}\n",
    "print(swapped)"
   ]
  },
  {
   "cell_type": "code",
   "execution_count": 54,
   "id": "2839ae7b-da09-4ab5-b7a2-a2487444e5f3",
   "metadata": {},
   "outputs": [
    {
     "name": "stdout",
     "output_type": "stream",
     "text": [
      "{'b': 6, 'd': 10}\n"
     ]
    }
   ],
   "source": [
    "original = {'a':1,'b':6,'c':3,'d':10}\n",
    "filterd={k:v for k,v in original.items()if v>=5}\n",
    "print(filterd)"
   ]
  },
  {
   "cell_type": "code",
   "execution_count": 58,
   "id": "681a526a-6805-410c-9bc3-f997d98c5519",
   "metadata": {},
   "outputs": [
    {
     "name": "stdout",
     "output_type": "stream",
     "text": [
      "{'a': 10, 'b': 20, 'c': 30}\n"
     ]
    }
   ],
   "source": [
    "# transforming values \n",
    "original={'a':1,'b':2,'c':3}\n",
    "transformed={k:v*10 for k,v in original.items()}\n",
    "print(transformed)"
   ]
  },
  {
   "cell_type": "code",
   "execution_count": 62,
   "id": "65680732-28f2-470c-b3b1-cbe2d78d6862",
   "metadata": {},
   "outputs": [
    {
     "name": "stdout",
     "output_type": "stream",
     "text": [
      "{1: {'squares': 1, 'cube': 1}, 2: {'squares': 4, 'cube': 8}, 3: {'squares': 9, 'cube': 27}, 4: {'squares': 16, 'cube': 64}}\n"
     ]
    }
   ],
   "source": [
    "# nested dictionary  comprehension\n",
    "numbers=[1,2,3,4]\n",
    "nested_dict={x:{'squares':x**2,'cube':x**3} for x in numbers}\n",
    "print(nested_dict)\n",
    "\n",
    "             \n"
   ]
  },
  {
   "cell_type": "code",
   "execution_count": 68,
   "id": "053cd668-1ee1-41b7-b3e1-0946abb1f207",
   "metadata": {},
   "outputs": [
    {
     "name": "stdout",
     "output_type": "stream",
     "text": [
      "{'a': 1, 'c': 3}\n"
     ]
    }
   ],
   "source": [
    "# creating a dict from two ;ist \n",
    "keys=['a','b','c','d']\n",
    "values=[1,2,3,4]\n",
    "filterd_dict={keys[i]:values[i] for i in range(len(keys)) if i % 2==0}\n",
    "print(filterd_dict)"
   ]
  },
  {
   "cell_type": "code",
   "execution_count": 70,
   "id": "6b668c66-cc54-4ca3-9c8a-abc290e48c58",
   "metadata": {},
   "outputs": [
    {
     "name": "stdout",
     "output_type": "stream",
     "text": [
      "{'a': 1, 'b': 2, 'c': 3, 'd': 0}\n"
     ]
    }
   ],
   "source": [
    "#handling missing values \n",
    "keys=['a','b','c','d']\n",
    "values=[1,2,3]\n",
    "my_dict={k:values[i] if i<len(values) else 0 for i, k in enumerate(keys)}\n",
    "print(my_dict)"
   ]
  },
  {
   "cell_type": "code",
   "execution_count": null,
   "id": "ae85122e-45db-4107-8c69-43896d721635",
   "metadata": {},
   "outputs": [],
   "source": []
  }
 ],
 "metadata": {
  "kernelspec": {
   "display_name": "Python 3 (ipykernel)",
   "language": "python",
   "name": "python3"
  },
  "language_info": {
   "codemirror_mode": {
    "name": "ipython",
    "version": 3
   },
   "file_extension": ".py",
   "mimetype": "text/x-python",
   "name": "python",
   "nbconvert_exporter": "python",
   "pygments_lexer": "ipython3",
   "version": "3.12.7"
  }
 },
 "nbformat": 4,
 "nbformat_minor": 5
}
