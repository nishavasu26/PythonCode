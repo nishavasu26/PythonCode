{
 "cells": [
  {
   "cell_type": "code",
   "execution_count": 1,
   "id": "5ed0f82f-0e6b-408c-8c94-e3a2f3abbba8",
   "metadata": {},
   "outputs": [
    {
     "name": "stdout",
     "output_type": "stream",
     "text": [
      "welcome to oops concept\n"
     ]
    }
   ],
   "source": [
    "class python:\n",
    "   def fun(self):\n",
    "       print(\"welcome to oops concept\")\n",
    "pyt = python()\n",
    "pyt.fun()"
   ]
  },
  {
   "cell_type": "code",
   "execution_count": null,
   "id": "fd410db8-f43b-42aa-8cb8-cafb92666e95",
   "metadata": {},
   "outputs": [],
   "source": []
  }
 ],
 "metadata": {
  "kernelspec": {
   "display_name": "Python 3 (ipykernel)",
   "language": "python",
   "name": "python3"
  },
  "language_info": {
   "codemirror_mode": {
    "name": "ipython",
    "version": 3
   },
   "file_extension": ".py",
   "mimetype": "text/x-python",
   "name": "python",
   "nbconvert_exporter": "python",
   "pygments_lexer": "ipython3",
   "version": "3.12.7"
  }
 },
 "nbformat": 4,
 "nbformat_minor": 5
}
