{
 "cells": [
  {
   "cell_type": "code",
   "execution_count": 1,
   "id": "f8bb404a-f776-44f4-a2ee-a25a2d34a39e",
   "metadata": {
    "scrolled": true
   },
   "outputs": [
    {
     "name": "stdin",
     "output_type": "stream",
     "text": [
      "Enter your name:  nisha\n",
      "Enter your address:  bommasandra\n",
      "Enter your mobile number:  09741917138\n"
     ]
    },
    {
     "name": "stdout",
     "output_type": "stream",
     "text": [
      "\n",
      "Select Room Type:\n",
      "1. Normal Room\n",
      "2. AC Room\n",
      "3. Suite Room\n"
     ]
    },
    {
     "name": "stdin",
     "output_type": "stream",
     "text": [
      "Enter room type (1/2/3):  3\n",
      "Enter the number of rooms:  2\n",
      "Enter the number of days:  10\n"
     ]
    },
    {
     "name": "stdout",
     "output_type": "stream",
     "text": [
      "\n",
      "--- Hotel Booking Details ---\n",
      "Name: nisha\n",
      "Address: bommasandra\n",
      "Mobile Number: 09741917138\n",
      "Room Type: Suite Room\n",
      "Number of Rooms: 2\n",
      "Number of Days: 10\n",
      "Total Rent: 9000 INR\n"
     ]
    }
   ],
   "source": [
    "class NormalRoom:\n",
    "    def calculate(self, no_rooms, days):\n",
    "        if days == 1:\n",
    "            rent_per_room = 300\n",
    "        elif 1 < days <= 5:\n",
    "            rent_per_room = 250\n",
    "        else:\n",
    "            rent_per_room = 200\n",
    "        return no_rooms * days * rent_per_room\n",
    "\n",
    "\n",
    "class ACRoom:\n",
    "    def AC_calculate(self, no_rooms, days):\n",
    "        if days == 1:\n",
    "            rent_per_room = 450\n",
    "        elif 1 < days <= 5:\n",
    "            rent_per_room = 300\n",
    "        else:\n",
    "            rent_per_room = 250\n",
    "        return no_rooms * days * rent_per_room\n",
    "\n",
    "\n",
    "class SuiteRoom:\n",
    "    def suite_calculate(self, no_rooms, days):\n",
    "        if days == 1:\n",
    "            rent_per_room = 550\n",
    "        elif 1 < days <= 5:\n",
    "            rent_per_room = 500\n",
    "        else:\n",
    "            rent_per_room = 450\n",
    "        return no_rooms * days * rent_per_room\n",
    "\n",
    "\n",
    "class Hotel(NormalRoom, ACRoom, SuiteRoom):\n",
    "    def display(self, name, address, mobile_number):\n",
    "        print(\"\\n--- Hotel Booking Details ---\")\n",
    "        print(f\"Name: {name}\")\n",
    "        print(f\"Address: {address}\")\n",
    "        print(f\"Mobile Number: {mobile_number}\")\n",
    "\n",
    "\n",
    "if __name__ == \"__main__\":\n",
    "    \n",
    "    hotel = Hotel()\n",
    "    \n",
    "    \n",
    "    name = input(\"Enter your name: \")\n",
    "    address = input(\"Enter your address: \")\n",
    "    mobile_number = input(\"Enter your mobile number: \")\n",
    "    \n",
    "    \n",
    "    print(\"\\nSelect Room Type:\")\n",
    "    print(\"1. Normal Room\")\n",
    "    print(\"2. AC Room\")\n",
    "    print(\"3. Suite Room\")\n",
    "    \n",
    "    \n",
    "    room_type = int(input(\"Enter room type (1/2/3): \"))\n",
    "    no_rooms = int(input(\"Enter the number of rooms: \"))\n",
    "    days = int(input(\"Enter the number of days: \"))\n",
    "    \n",
    "   \n",
    "    if room_type == 1:\n",
    "        rent = hotel.calculate(no_rooms, days)\n",
    "        room_name = \"Normal Room\"\n",
    "    elif room_type == 2:\n",
    "        rent = hotel.AC_calculate(no_rooms, days)\n",
    "        room_name = \"AC Room\"\n",
    "    elif room_type == 3:\n",
    "        rent = hotel.suite_calculate(no_rooms, days)\n",
    "        room_name = \"Suite Room\"\n",
    "    else:\n",
    "        print(\"Invalid room type selected!\")\n",
    "        exit()\n",
    "    \n",
    "   \n",
    "    hotel.display(name, address, mobile_number)\n",
    "    print(f\"Room Type: {room_name}\")\n",
    "    print(f\"Number of Rooms: {no_rooms}\")\n",
    "    print(f\"Number of Days: {days}\")\n",
    "    print(f\"Total Rent: {rent} INR\")"
   ]
  },
  {
   "cell_type": "code",
   "execution_count": 3,
   "id": "47788f79-6ba5-4512-b833-71aa10523783",
   "metadata": {},
   "outputs": [
    {
     "name": "stdout",
     "output_type": "stream",
     "text": [
      "Staff ID: S12345\n"
     ]
    }
   ],
   "source": [
    "# Base class Person\n",
    "class Person:\n",
    "    def __init__(self, name, age):\n",
    "        self.name = name\n",
    "        self.age = age\n",
    "\n",
    "# Derived class Staff inheriting from Person\n",
    "class Staff(Person):\n",
    "    def __init__(self, name, age, staff_id):\n",
    "        # Initialize the parent class (Person)\n",
    "        super().__init__(name, age)\n",
    "        self.staff_id = staff_id\n",
    "\n",
    "    # Method to display the staff ID\n",
    "    def display(self):\n",
    "        print(f\"Staff ID: {self.staff_id}\")\n",
    "\n",
    "# Example usage\n",
    "staff_member = Staff(\"John Doe\", 30, \"S12345\")\n",
    "staff_member.display()\n",
    "\n"
   ]
  },
  {
   "cell_type": "code",
   "execution_count": 10,
   "id": "1ffdea47-0423-4352-983b-0284b488b5d8",
   "metadata": {},
   "outputs": [],
   "source": [
    "class Person:\n",
    "    def __init__(self, name):\n",
    "        self.name = name\n",
    "\n",
    "    def display(self):\n",
    "        print(f\"Name: {self.name}\")\n",
    "\n",
    "\n",
    "class Staff(Person):\n",
    "    def __init__(self, name, staff_id):\n",
    "        super().__init__(name)\n",
    "        self.staff_id = staff_id\n",
    "\n",
    "    def display(self):\n",
    "        super().display()\n",
    "        print(f\"Staff ID: {self.staff_id}\")\n",
    "\n",
    "\n",
    "class TemporaryStaff(Staff):\n",
    "    def init(self, name, staff_id, days_worked, hours_per_day):\n",
    "        super().__init__(name, staff_id)\n",
    "        self.days_worked = days_worked\n",
    "        self.hours_per_day = hours_per_day\n",
    "\n",
    "    def salary(self):\n",
    "        total_hours = self.days_worked * self.hours_per_day\n",
    "        total_salary = total_hours * 150\n",
    "        return total_salary\n",
    "\n",
    "    def display(self):\n",
    "        super().display()\n",
    "        print(f\"Days Worked: {self.days_worked}\")\n",
    "        print(f\"Hours Per Day: {self.hours_per_day}\")\n",
    "        print(f\"Total Salary Earned: {self.salary()} INR\")\n",
    "\n",
    "\n",
    "# Example usage\n",
    "if name == \"main\":\n",
    "    name = input(\"Enter your name: \")\n",
    "    staff_id = input(\"Enter your staff ID: \")\n",
    "    days_worked = int(input(\"Enter the number of days worked: \"))\n",
    "    hours_per_day = int(input(\"Enter the number of hours worked per day: \"))\n",
    "\n",
    "    temp_staff = TemporaryStaff(name, staff_id, days_worked, hours_per_day)\n",
    "    print(\"\\n--- Temporary Staff Details ---\")\n",
    "    temp_staff.display()"
   ]
  },
  {
   "cell_type": "code",
   "execution_count": null,
   "id": "47b3028c-6e2c-4aea-9a40-3c481d091854",
   "metadata": {},
   "outputs": [],
   "source": []
  },
  {
   "cell_type": "code",
   "execution_count": null,
   "id": "f1b9b82a-18ba-4868-bd60-f07f400931a7",
   "metadata": {},
   "outputs": [],
   "source": []
  },
  {
   "cell_type": "code",
   "execution_count": null,
   "id": "52e7c0b3-9f1a-4ae0-8ffa-8d6b8e83cbf2",
   "metadata": {},
   "outputs": [],
   "source": []
  },
  {
   "cell_type": "code",
   "execution_count": null,
   "id": "011fbba6-fe54-4732-80bc-1eb10bf17717",
   "metadata": {},
   "outputs": [],
   "source": []
  }
 ],
 "metadata": {
  "kernelspec": {
   "display_name": "Python 3 (ipykernel)",
   "language": "python",
   "name": "python3"
  },
  "language_info": {
   "codemirror_mode": {
    "name": "ipython",
    "version": 3
   },
   "file_extension": ".py",
   "mimetype": "text/x-python",
   "name": "python",
   "nbconvert_exporter": "python",
   "pygments_lexer": "ipython3",
   "version": "3.12.7"
  }
 },
 "nbformat": 4,
 "nbformat_minor": 5
}
