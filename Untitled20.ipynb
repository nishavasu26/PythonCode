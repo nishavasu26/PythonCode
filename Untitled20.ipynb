{
 "cells": [
  {
   "cell_type": "code",
   "execution_count": 1,
   "id": "02600ef1-289c-4c14-9450-f132409c676b",
   "metadata": {},
   "outputs": [
    {
     "name": "stdout",
     "output_type": "stream",
     "text": [
      "5\n",
      "15\n",
      "30\n",
      "50\n"
     ]
    }
   ],
   "source": [
    "class Calc:\n",
    "    def add(self, *args):\n",
    "        return sum(args)\n",
    "\n",
    "def main():\n",
    "    result = Calc()\n",
    "    print(result.add(5))\n",
    "    print(result.add(5,10))\n",
    "    print(result.add(5,10,15))\n",
    "    print(result.add(5,10,15,20))\n",
    "main()"
   ]
  },
  {
   "cell_type": "code",
   "execution_count": null,
   "id": "65dd4c7f-bfb1-43c9-9645-415d06f8cfbe",
   "metadata": {},
   "outputs": [],
   "source": [
    "import math\n",
    "class compute:\n",
    "    def area(self,arg=None,arg2=None):\n",
    "        if arg1 1 = None and arg2 1 = None:\n",
    "        return arg1*arg2\n",
    "     else:\n",
    "         return math.cell(math.pi*arg1*arg1)\n",
    "radius = int(input())\n",
    "length\n"
   ]
  }
 ],
 "metadata": {
  "kernelspec": {
   "display_name": "Python 3 (ipykernel)",
   "language": "python",
   "name": "python3"
  },
  "language_info": {
   "codemirror_mode": {
    "name": "ipython",
    "version": 3
   },
   "file_extension": ".py",
   "mimetype": "text/x-python",
   "name": "python",
   "nbconvert_exporter": "python",
   "pygments_lexer": "ipython3",
   "version": "3.12.7"
  }
 },
 "nbformat": 4,
 "nbformat_minor": 5
}
