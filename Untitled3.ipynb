{
 "cells": [
  {
   "cell_type": "code",
   "execution_count": 1,
   "id": "64ee1723-9667-4051-8475-696934c0365e",
   "metadata": {},
   "outputs": [
    {
     "name": "stdout",
     "output_type": "stream",
     "text": [
      "['hi', 'how', 'are', 'you']\n"
     ]
    }
   ],
   "source": [
    "x = \"hi how are you\"\n",
    "words = x.split()  # Split the string by spaces\n",
    "print(words)"
   ]
  },
  {
   "cell_type": "code",
   "execution_count": 3,
   "id": "d95a8246-b04a-410a-9f71-b1e6e70dc701",
   "metadata": {},
   "outputs": [
    {
     "ename": "SyntaxError",
     "evalue": "invalid syntax (502317686.py, line 1)",
     "output_type": "error",
     "traceback": [
      "\u001b[1;36m  Cell \u001b[1;32mIn[3], line 1\u001b[1;36m\u001b[0m\n\u001b[1;33m    Method 1: Using set() to find distinct elements\u001b[0m\n\u001b[1;37m           ^\u001b[0m\n\u001b[1;31mSyntaxError\u001b[0m\u001b[1;31m:\u001b[0m invalid syntax\n"
     ]
    }
   ],
   "source": [
    "Method 1: Using set() to find distinct elements\n",
    "def count_distinct(lst):\n",
    "    return len(set(lst))\n",
    "\n",
    "# Example usage\n",
    "numbers = [3, 5, 7, 2, 5, 7, 8, 3]\n",
    "print(\"Number of distinct elements:\", count_distinct(numbers))"
   ]
  },
  {
   "cell_type": "code",
   "execution_count": null,
   "id": "04f5cfc5-7044-4c9b-a3a8-e0e6a341b029",
   "metadata": {},
   "outputs": [],
   "source": [
    " -"
   ]
  }
 ],
 "metadata": {
  "kernelspec": {
   "display_name": "Python 3 (ipykernel)",
   "language": "python",
   "name": "python3"
  },
  "language_info": {
   "codemirror_mode": {
    "name": "ipython",
    "version": 3
   },
   "file_extension": ".py",
   "mimetype": "text/x-python",
   "name": "python",
   "nbconvert_exporter": "python",
   "pygments_lexer": "ipython3",
   "version": "3.12.7"
  }
 },
 "nbformat": 4,
 "nbformat_minor": 5
}
