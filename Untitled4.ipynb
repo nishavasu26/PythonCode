{
 "cells": [
  {
   "cell_type": "code",
   "execution_count": 6,
   "id": "2ae5b79b-a2ed-48a7-b55a-8fac916d079a",
   "metadata": {},
   "outputs": [
    {
     "name": "stdout",
     "output_type": "stream",
     "text": [
      "Number of repeated elements: 1\n",
      "Repeated elements and their counts: {3: 3}\n"
     ]
    }
   ],
   "source": [
    "numbers = [5,3,3,3,78,90]\n",
    "from collections import Counter\n",
    "element_counts = Counter(numbers)\n",
    "repeated_elements = {key: value for key, value in element_counts.items() if value > 1}\n",
    "print(f\"Number of repeated elements: {len(repeated_elements)}\")\n",
    "print(\"Repeated elements and their counts:\", repeated_elements)\n"
   ]
  },
  {
   "cell_type": "code",
   "execution_count": 12,
   "id": "05ce4bbc-1b18-4a19-b7a1-fc41280af61e",
   "metadata": {},
   "outputs": [
    {
     "name": "stdin",
     "output_type": "stream",
     "text": [
      " -10 \n",
      " 20 30 40 50\n"
     ]
    },
    {
     "name": "stdout",
     "output_type": "stream",
     "text": [
      "Non-duplicate items:\n",
      "[20, 30, 40, 50]\n"
     ]
    }
   ],
   "source": [
    "# duplicates to program to remove the duplicate \n",
    "sizeof_list=int(input())\n",
    "list_1=list(map(int,input().split()))\n",
    "b = []\n",
    "unique = []\n",
    "for x in list_1:\n",
    "    if x not in b:\n",
    "        unique.append(x)\n",
    "        b.append(x)\n",
    "print(\"Non-duplicate items:\")\n",
    "print(unique)\n",
    "        "
   ]
  },
  {
   "cell_type": "code",
   "execution_count": null,
   "id": "526b1532-bd07-4afe-a64a-237c7eea63a8",
   "metadata": {},
   "outputs": [],
   "source": [
    "# write a python to swap the first and last value\n",
    "size_of_list_1=int(input)))\n",
    "list_1=list(map(int,input().split()))\n",
    "list_1[0]=list_1[0]+list_1[-1]\n",
    "list_1[-1]=list_1"
   ]
  }
 ],
 "metadata": {
  "kernelspec": {
   "display_name": "Python 3 (ipykernel)",
   "language": "python",
   "name": "python3"
  },
  "language_info": {
   "codemirror_mode": {
    "name": "ipython",
    "version": 3
   },
   "file_extension": ".py",
   "mimetype": "text/x-python",
   "name": "python",
   "nbconvert_exporter": "python",
   "pygments_lexer": "ipython3",
   "version": "3.12.7"
  }
 },
 "nbformat": 4,
 "nbformat_minor": 5
}
