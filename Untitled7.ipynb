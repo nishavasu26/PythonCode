{
 "cells": [
  {
   "cell_type": "code",
   "execution_count": 3,
   "id": "1edca610-2452-47c6-89f2-1fc79ad69331",
   "metadata": {},
   "outputs": [],
   "source": [
    "values = {6,'python',5,6}"
   ]
  },
  {
   "cell_type": "code",
   "execution_count": 5,
   "id": "35969f93-a269-4a17-b913-a5b36fc679ac",
   "metadata": {},
   "outputs": [
    {
     "data": {
      "text/plain": [
       "{5, 6, 'python'}"
      ]
     },
     "execution_count": 5,
     "metadata": {},
     "output_type": "execute_result"
    }
   ],
   "source": [
    "values"
   ]
  },
  {
   "cell_type": "code",
   "execution_count": 9,
   "id": "994a809d-b5a4-4c41-ba1b-17bd8f4cbfb0",
   "metadata": {},
   "outputs": [
    {
     "data": {
      "text/plain": [
       "set"
      ]
     },
     "execution_count": 9,
     "metadata": {},
     "output_type": "execute_result"
    }
   ],
   "source": [
    "type(values)"
   ]
  },
  {
   "cell_type": "code",
   "execution_count": 13,
   "id": "d3331aa7-9b33-40e0-904c-0fa0dc502b88",
   "metadata": {},
   "outputs": [],
   "source": [
    "value={}"
   ]
  },
  {
   "cell_type": "code",
   "execution_count": 16,
   "id": "3c29c008-5c37-43ff-afde-b8e0c27e2b97",
   "metadata": {},
   "outputs": [
    {
     "data": {
      "text/plain": [
       "dict"
      ]
     },
     "execution_count": 16,
     "metadata": {},
     "output_type": "execute_result"
    }
   ],
   "source": [
    "type(value)"
   ]
  },
  {
   "cell_type": "code",
   "execution_count": 18,
   "id": "e48a7d7f-f5be-48a2-b811-4f8b1561e3f8",
   "metadata": {},
   "outputs": [
    {
     "data": {
      "text/plain": [
       "set"
      ]
     },
     "execution_count": 18,
     "metadata": {},
     "output_type": "execute_result"
    }
   ],
   "source": [
    "values = set()\n",
    "type(values)"
   ]
  },
  {
   "cell_type": "code",
   "execution_count": 20,
   "id": "ee4c6901-113f-4f28-9f50-ec303331bf64",
   "metadata": {},
   "outputs": [],
   "source": [
    "values={12,1,2,3,2,45,4,5,3}"
   ]
  },
  {
   "cell_type": "code",
   "execution_count": 22,
   "id": "15ce1d52-9e3b-4b18-b5c7-20bb7e38992b",
   "metadata": {},
   "outputs": [
    {
     "data": {
      "text/plain": [
       "{1, 2, 3, 4, 5, 12, 45}"
      ]
     },
     "execution_count": 22,
     "metadata": {},
     "output_type": "execute_result"
    }
   ],
   "source": [
    "values"
   ]
  },
  {
   "cell_type": "code",
   "execution_count": 26,
   "id": "e87f662c-5820-4498-8b9e-a639c3a8ae02",
   "metadata": {},
   "outputs": [
    {
     "name": "stdout",
     "output_type": "stream",
     "text": [
      "set()\n"
     ]
    }
   ],
   "source": [
    "set1 = set()\n",
    "print (set1)"
   ]
  },
  {
   "cell_type": "code",
   "execution_count": 56,
   "id": "111d6c61-6f4c-4659-a9f4-efb03351b723",
   "metadata": {},
   "outputs": [],
   "source": [
    "value_set = {2,'PYTHON','a',5,9.4,}"
   ]
  },
  {
   "cell_type": "code",
   "execution_count": 58,
   "id": "1a2d08e6-ce81-43be-89a0-6efbfc520fe7",
   "metadata": {},
   "outputs": [
    {
     "data": {
      "text/plain": [
       "{2, 5, 9.4, 'PYTHON', 'a'}"
      ]
     },
     "execution_count": 58,
     "metadata": {},
     "output_type": "execute_result"
    }
   ],
   "source": [
    "value_set"
   ]
  },
  {
   "cell_type": "code",
   "execution_count": 38,
   "id": "ece8ad01-c699-415a-890e-e268bc206611",
   "metadata": {},
   "outputs": [
    {
     "ename": "TypeError",
     "evalue": "'set' object is not subscriptable",
     "output_type": "error",
     "traceback": [
      "\u001b[1;31m---------------------------------------------------------------------------\u001b[0m",
      "\u001b[1;31mTypeError\u001b[0m                                 Traceback (most recent call last)",
      "Cell \u001b[1;32mIn[38], line 2\u001b[0m\n\u001b[0;32m      1\u001b[0m \u001b[38;5;66;03m# python code to access an element in the set \u001b[39;00m\n\u001b[1;32m----> 2\u001b[0m value_set[\u001b[38;5;241m0\u001b[39m]\n",
      "\u001b[1;31mTypeError\u001b[0m: 'set' object is not subscriptable"
     ]
    }
   ],
   "source": [
    "# python code to access an element in the set \n",
    "value_set[0]"
   ]
  },
  {
   "cell_type": "code",
   "execution_count": 40,
   "id": "9328643e-435b-4fc4-b382-47be2d2f5e60",
   "metadata": {},
   "outputs": [
    {
     "ename": "AttributeError",
     "evalue": "'set' object has no attribute 'append'",
     "output_type": "error",
     "traceback": [
      "\u001b[1;31m---------------------------------------------------------------------------\u001b[0m",
      "\u001b[1;31mAttributeError\u001b[0m                            Traceback (most recent call last)",
      "Cell \u001b[1;32mIn[40], line 2\u001b[0m\n\u001b[0;32m      1\u001b[0m \u001b[38;5;66;03m#addingth eelement in the set\u001b[39;00m\n\u001b[1;32m----> 2\u001b[0m value_set\u001b[38;5;241m.\u001b[39mappend(\u001b[38;5;124m\"\u001b[39m\u001b[38;5;124mhello\u001b[39m\u001b[38;5;124m\"\u001b[39m)\n\u001b[0;32m      3\u001b[0m value_set\n",
      "\u001b[1;31mAttributeError\u001b[0m: 'set' object has no attribute 'append'"
     ]
    }
   ],
   "source": [
    "#addingth eelement in the set\n",
    "value_set.append(\"hello\")\n",
    "value_set"
   ]
  },
  {
   "cell_type": "code",
   "execution_count": null,
   "id": "79140e6c-dded-4f40-95d6-edf12ec9e0a5",
   "metadata": {},
   "outputs": [],
   "source": [
    "value_set.add(\"apple\")"
   ]
  },
  {
   "cell_type": "code",
   "execution_count": 48,
   "id": "390cd4e3-07c0-4aa8-9d80-8593e52f4592",
   "metadata": {},
   "outputs": [
    {
     "data": {
      "text/plain": [
       "{2, 5, 9.4, 'PYTHON', 'a', 'apple'}"
      ]
     },
     "execution_count": 48,
     "metadata": {},
     "output_type": "execute_result"
    }
   ],
   "source": [
    "value_set"
   ]
  },
  {
   "cell_type": "code",
   "execution_count": 50,
   "id": "6098bbef-e39a-421b-9803-71f7f308659d",
   "metadata": {},
   "outputs": [
    {
     "ename": "KeyError",
     "evalue": "'6'",
     "output_type": "error",
     "traceback": [
      "\u001b[1;31m---------------------------------------------------------------------------\u001b[0m",
      "\u001b[1;31mKeyError\u001b[0m                                  Traceback (most recent call last)",
      "Cell \u001b[1;32mIn[50], line 1\u001b[0m\n\u001b[1;32m----> 1\u001b[0m value_set\u001b[38;5;241m.\u001b[39mremove(\u001b[38;5;124m'\u001b[39m\u001b[38;5;124m6\u001b[39m\u001b[38;5;124m'\u001b[39m)\n",
      "\u001b[1;31mKeyError\u001b[0m: '6'"
     ]
    }
   ],
   "source": [
    "value_set.remove('6')"
   ]
  },
  {
   "cell_type": "code",
   "execution_count": 52,
   "id": "bb91b0d7-a283-432e-9d8f-16c5b3b91df0",
   "metadata": {},
   "outputs": [],
   "source": [
    "value_set.discard(9.4)"
   ]
  },
  {
   "cell_type": "code",
   "execution_count": 60,
   "id": "dbb9a5f2-405e-434f-b1dc-bdf5a53df938",
   "metadata": {},
   "outputs": [
    {
     "data": {
      "text/plain": [
       "{2, 5, 9.4, 'PYTHON', 'a'}"
      ]
     },
     "execution_count": 60,
     "metadata": {},
     "output_type": "execute_result"
    }
   ],
   "source": [
    "value_set"
   ]
  },
  {
   "cell_type": "code",
   "execution_count": 62,
   "id": "df798ad5-eca0-4b43-a600-f988ecaf7c41",
   "metadata": {},
   "outputs": [],
   "source": [
    "value_set.discard(10)"
   ]
  },
  {
   "cell_type": "code",
   "execution_count": 64,
   "id": "8088e994-d4ff-4e01-a00b-54d1a47cc014",
   "metadata": {},
   "outputs": [
    {
     "data": {
      "text/plain": [
       "{2, 5, 9.4, 'PYTHON', 'a'}"
      ]
     },
     "execution_count": 64,
     "metadata": {},
     "output_type": "execute_result"
    }
   ],
   "source": [
    "value_set"
   ]
  },
  {
   "cell_type": "code",
   "execution_count": 1,
   "id": "16bf812d-7f13-40e0-a56b-221024680b64",
   "metadata": {},
   "outputs": [
    {
     "name": "stdin",
     "output_type": "stream",
     "text": [
      " 4 \n",
      " 12\n",
      " 26\n",
      " 10\n",
      " 6\n"
     ]
    }
   ],
   "source": [
    "value_set=set()\n",
    "n=int(input())\n",
    "for i in range(n):\n",
    "    value_set.add(int(input()))\n",
    "    \n",
    "    "
   ]
  },
  {
   "cell_type": "code",
   "execution_count": 3,
   "id": "e495c243-104f-432b-88cf-ae0621af9c19",
   "metadata": {},
   "outputs": [
    {
     "data": {
      "text/plain": [
       "{6, 10, 12, 26}"
      ]
     },
     "execution_count": 3,
     "metadata": {},
     "output_type": "execute_result"
    }
   ],
   "source": [
    "value_set"
   ]
  },
  {
   "cell_type": "code",
   "execution_count": 5,
   "id": "7c10ae7f-07ca-48e1-be80-1ab5f3af7003",
   "metadata": {},
   "outputs": [
    {
     "name": "stdout",
     "output_type": "stream",
     "text": [
      "26\n",
      "10\n",
      "12\n",
      "6\n"
     ]
    }
   ],
   "source": [
    "for i in value_set:\n",
    "    print (i)"
   ]
  },
  {
   "cell_type": "code",
   "execution_count": 9,
   "id": "d98c4448-898f-4149-a18a-9e8d8356696d",
   "metadata": {},
   "outputs": [],
   "source": [
    "# python code to check whether the element got from user is presen in the value_set \n",
    "value_set={6,12,26,10}"
   ]
  },
  {
   "cell_type": "code",
   "execution_count": 13,
   "id": "d7ab5408-2627-4395-acb3-b26a0992f000",
   "metadata": {},
   "outputs": [],
   "source": [
    "month1_set={\"jan\",\"feb\",\"dec\",\"mar\"}\n",
    "month2_set={\"may\",\"jan\",\"oct\",\"mar\"}\n"
   ]
  },
  {
   "cell_type": "code",
   "execution_count": 15,
   "id": "f8c32837-317b-4b15-abf9-7617c68763f0",
   "metadata": {},
   "outputs": [
    {
     "data": {
      "text/plain": [
       "{'dec', 'feb', 'jan', 'mar'}"
      ]
     },
     "execution_count": 15,
     "metadata": {},
     "output_type": "execute_result"
    }
   ],
   "source": [
    "month1_set"
   ]
  },
  {
   "cell_type": "code",
   "execution_count": 17,
   "id": "1be73c03-db53-4bfa-a2f7-7e9b637b2b95",
   "metadata": {},
   "outputs": [
    {
     "data": {
      "text/plain": [
       "{'jan', 'mar', 'may', 'oct'}"
      ]
     },
     "execution_count": 17,
     "metadata": {},
     "output_type": "execute_result"
    }
   ],
   "source": [
    "month2_set"
   ]
  },
  {
   "cell_type": "code",
   "execution_count": 30,
   "id": "3615b3a2-662a-4e0e-b7ff-bc758984b7b7",
   "metadata": {},
   "outputs": [],
   "source": [
    "month_common=month1_set.union(month1_set)"
   ]
  },
  {
   "cell_type": "code",
   "execution_count": 32,
   "id": "f7c564bd-67c0-41d7-9c21-5b0166004100",
   "metadata": {},
   "outputs": [
    {
     "ename": "NameError",
     "evalue": "name 'month_commom' is not defined",
     "output_type": "error",
     "traceback": [
      "\u001b[1;31m---------------------------------------------------------------------------\u001b[0m",
      "\u001b[1;31mNameError\u001b[0m                                 Traceback (most recent call last)",
      "Cell \u001b[1;32mIn[32], line 1\u001b[0m\n\u001b[1;32m----> 1\u001b[0m month_commom\n",
      "\u001b[1;31mNameError\u001b[0m: name 'month_commom' is not defined"
     ]
    }
   ],
   "source": [
    "month_commom"
   ]
  },
  {
   "cell_type": "code",
   "execution_count": null,
   "id": "4bf29b0d-ebd4-45a4-b74b-b980c0c053b1",
   "metadata": {},
   "outputs": [],
   "source": [
    "commom=month1_set& month1_set\n"
   ]
  },
  {
   "cell_type": "code",
   "execution_count": 36,
   "id": "f26041fb-c2d4-49d5-a6de-ce74f082cef5",
   "metadata": {},
   "outputs": [
    {
     "data": {
      "text/plain": [
       "{'dec', 'feb', 'jan', 'mar'}"
      ]
     },
     "execution_count": 36,
     "metadata": {},
     "output_type": "execute_result"
    }
   ],
   "source": [
    "month_common"
   ]
  },
  {
   "cell_type": "code",
   "execution_count": null,
   "id": "396d171b-23d2-47ec-bcf3-cc6d8f115ea6",
   "metadata": {},
   "outputs": [],
   "source": [
    "month_common=month1_set.intersection(month2_set)\n"
   ]
  },
  {
   "cell_type": "code",
   "execution_count": 38,
   "id": "092213d6-7950-476a-b37c-0ae1a2cf8880",
   "metadata": {},
   "outputs": [
    {
     "data": {
      "text/plain": [
       "{'dec', 'feb', 'jan', 'mar'}"
      ]
     },
     "execution_count": 38,
     "metadata": {},
     "output_type": "execute_result"
    }
   ],
   "source": [
    "month_common"
   ]
  },
  {
   "cell_type": "code",
   "execution_count": null,
   "id": "e75cbdac-3bcb-4947-823a-f18d2bc264d1",
   "metadata": {},
   "outputs": [],
   "source": []
  }
 ],
 "metadata": {
  "kernelspec": {
   "display_name": "Python 3 (ipykernel)",
   "language": "python",
   "name": "python3"
  },
  "language_info": {
   "codemirror_mode": {
    "name": "ipython",
    "version": 3
   },
   "file_extension": ".py",
   "mimetype": "text/x-python",
   "name": "python",
   "nbconvert_exporter": "python",
   "pygments_lexer": "ipython3",
   "version": "3.12.7"
  }
 },
 "nbformat": 4,
 "nbformat_minor": 5
}
