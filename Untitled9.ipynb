{
 "cells": [
  {
   "cell_type": "code",
   "execution_count": 1,
   "id": "5387e6dc-9937-4c17-af0a-6373c340f9a7",
   "metadata": {},
   "outputs": [],
   "source": [
    "import numpy as np\n",
    "from scipy.stats import f_oneway"
   ]
  },
  {
   "cell_type": "code",
   "execution_count": 2,
   "id": "7fe038d3-0dd7-451b-97fd-d558c4c9d49a",
   "metadata": {},
   "outputs": [
    {
     "ename": "NameError",
     "evalue": "name 'g' is not defined",
     "output_type": "error",
     "traceback": [
      "\u001b[1;31m---------------------------------------------------------------------------\u001b[0m",
      "\u001b[1;31mNameError\u001b[0m                                 Traceback (most recent call last)",
      "Cell \u001b[1;32mIn[2], line 1\u001b[0m\n\u001b[1;32m----> 1\u001b[0m g\n",
      "\u001b[1;31mNameError\u001b[0m: name 'g' is not defined"
     ]
    }
   ],
   "source": [
    "group"
   ]
  },
  {
   "cell_type": "code",
   "execution_count": 4,
   "id": "9b2d40d1-c521-43e7-af16-1b66ef9a4905",
   "metadata": {},
   "outputs": [
    {
     "name": "stdout",
     "output_type": "stream",
     "text": [
      "F-statistic: 55.63503649635041\n",
      "P-value: 8.510235091153363e-07\n",
      "Reject the null hypothesis: There is a significant difference in test scores between the groups\n"
     ]
    }
   ],
   "source": [
    "import numpy as pd\n",
    "from scipy.stats import f_oneway\n",
    "\n",
    "group1=[85,87,90,85,88]\n",
    "group2=[78,75,80,82,79]\n",
    "group3=[91,93,95,92,94]\n",
    "\n",
    "f_statistic, p_value=f_oneway(group1, group2, group3)\n",
    "\n",
    "print(\"F-statistic:\", f_statistic)\n",
    "print(\"P-value:\", p_value)\n",
    "\n",
    "if p_value<0.05:\n",
    "    print(\"Reject the null hypothesis: There is a significant difference in test scores between the groups\")\n",
    "else:\n",
    "    print(\"Fail to reject the null hypothesis: There is no significant difference in test scores between the groups\")"
   ]
  },
  {
   "cell_type": "code",
   "execution_count": null,
   "id": "6071003f-ca86-4b7d-8a95-e07d2c7b2f68",
   "metadata": {},
   "outputs": [],
   "source": []
  }
 ],
 "metadata": {
  "kernelspec": {
   "display_name": "Python 3 (ipykernel)",
   "language": "python",
   "name": "python3"
  },
  "language_info": {
   "codemirror_mode": {
    "name": "ipython",
    "version": 3
   },
   "file_extension": ".py",
   "mimetype": "text/x-python",
   "name": "python",
   "nbconvert_exporter": "python",
   "pygments_lexer": "ipython3",
   "version": "3.12.7"
  }
 },
 "nbformat": 4,
 "nbformat_minor": 5
}
