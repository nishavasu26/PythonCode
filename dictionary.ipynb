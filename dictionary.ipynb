{
 "cells": [
  {
   "cell_type": "code",
   "execution_count": 6,
   "id": "e9e9aef6-a778-4933-af07-a26ab7b6effa",
   "metadata": {},
   "outputs": [
    {
     "name": "stdout",
     "output_type": "stream",
     "text": [
      "{}\n"
     ]
    }
   ],
   "source": [
    "dic={}\n",
    "print(dic)"
   ]
  },
  {
   "cell_type": "code",
   "execution_count": 10,
   "id": "0ed8bd25-f3ac-491f-8da7-fd237ede53f6",
   "metadata": {},
   "outputs": [
    {
     "name": "stdout",
     "output_type": "stream",
     "text": [
      "{1: 'Focus', 2: 'Academy', 3: 'for', 4: 'Career', 5: 'Enhancement'}\n"
     ]
    }
   ],
   "source": [
    "dic={1:\"Focus\",2:\"Academy\",3:\"for\",4:\"Career\",5:\"Enhancement\"}\n",
    "print(dic)"
   ]
  },
  {
   "cell_type": "code",
   "execution_count": 14,
   "id": "6d936b8a-bfef-4cbd-b867-6c3d9a3a835a",
   "metadata": {},
   "outputs": [
    {
     "name": "stdout",
     "output_type": "stream",
     "text": [
      "{1: (2, 4, 5), 'Name': 'Face', 4: [5, 7]}\n"
     ]
    }
   ],
   "source": [
    "# creating dict with mixed keys \n",
    "dic={1:(2,4,5),\"Name\":\"Face\",4:[5,7]}\n",
    "print(dic)"
   ]
  },
  {
   "cell_type": "code",
   "execution_count": 16,
   "id": "43d13bf5-79c4-46b4-b88a-b16e9e994fcd",
   "metadata": {},
   "outputs": [
    {
     "data": {
      "text/plain": [
       "{1: (2, 4, 5), 'Name': 'Face', 4: [5, 7]}"
      ]
     },
     "execution_count": 16,
     "metadata": {},
     "output_type": "execute_result"
    }
   ],
   "source": [
    "dic={1:(2,4,5),\"Name\":\"Face\",4:[5,7]}\n",
    "dict(dic)"
   ]
  },
  {
   "cell_type": "code",
   "execution_count": 18,
   "id": "c06e7b78-a40e-4cf3-a0c4-eb3358b0450c",
   "metadata": {},
   "outputs": [
    {
     "name": "stdout",
     "output_type": "stream",
     "text": [
      "{1: 2, 'Name': 'FACE', 4: 5}\n"
     ]
    }
   ],
   "source": [
    "dic=dict([(1,2),(\"Name\",\"FACE\"),(4,5)])\n",
    "print(dic)"
   ]
  },
  {
   "cell_type": "code",
   "execution_count": 22,
   "id": "0c53be4d-ddb9-474e-9afe-95fb44777e1b",
   "metadata": {},
   "outputs": [
    {
     "ename": "SyntaxError",
     "evalue": "invalid syntax (1144140429.py, line 1)",
     "output_type": "error",
     "traceback": [
      "\u001b[1;36m  Cell \u001b[1;32mIn[22], line 1\u001b[1;36m\u001b[0m\n\u001b[1;33m    dic={1:\"FACE\",2:4,3:{5:\"hello\",6:9:5}}\u001b[0m\n\u001b[1;37m                                      ^\u001b[0m\n\u001b[1;31mSyntaxError\u001b[0m\u001b[1;31m:\u001b[0m invalid syntax\n"
     ]
    }
   ],
   "source": [
    "dic={1:\"FACE\",2:4,3:{5:\"hello\",6:9:5}}\n",
    "print(dic)"
   ]
  },
  {
   "cell_type": "code",
   "execution_count": 24,
   "id": "98beeb81-6a3b-48c9-8d32-380197514e8e",
   "metadata": {},
   "outputs": [
    {
     "name": "stdout",
     "output_type": "stream",
     "text": [
      "{0: 'apple', 1: 'hard', 3: 'wok'}\n"
     ]
    }
   ],
   "source": [
    "dic={}\n",
    "dic[0]=\"apple\"\n",
    "dic[1]=\"hard\"\n",
    "dic[3]=\"wok\"\n",
    "print(dic)"
   ]
  },
  {
   "cell_type": "code",
   "execution_count": 32,
   "id": "0c225c08-481e-40c3-8c23-8097d1a91e88",
   "metadata": {},
   "outputs": [
    {
     "name": "stdout",
     "output_type": "stream",
     "text": [
      "{0: 'google', 1: 'hard', 3: 'wok'}\n",
      "{0: 'google', 1: 'hard', 3: 'wok', 'new_set': (1, 5, 8)}\n"
     ]
    }
   ],
   "source": [
    "dic={}\n",
    "dic[0]=\"google\"\n",
    "dic[1]=\"hard\"\n",
    "dic[3]=\"wok\"\n",
    "print(dic)\n",
    "dic['new_set']=1,5,8\n",
    "print(dic)\n",
    "dic[0]=\"google\""
   ]
  },
  {
   "cell_type": "code",
   "execution_count": 40,
   "id": "10bd2e95-494e-4a92-9c06-23d6067e323f",
   "metadata": {},
   "outputs": [
    {
     "name": "stdout",
     "output_type": "stream",
     "text": [
      "None\n",
      "Hard\n"
     ]
    }
   ],
   "source": [
    "dic={0:'Apple',1:'Hard',3:'Work','New_set':(1,5,8)}\n",
    "print(dic.get(\"new_set\"))\n",
    "print(dic.get(1))\n"
   ]
  },
  {
   "cell_type": "code",
   "execution_count": null,
   "id": "2ad38c9a-b78c-47e6-ba0d-d315b3855d12",
   "metadata": {},
   "outputs": [],
   "source": []
  }
 ],
 "metadata": {
  "kernelspec": {
   "display_name": "Python 3 (ipykernel)",
   "language": "python",
   "name": "python3"
  },
  "language_info": {
   "codemirror_mode": {
    "name": "ipython",
    "version": 3
   },
   "file_extension": ".py",
   "mimetype": "text/x-python",
   "name": "python",
   "nbconvert_exporter": "python",
   "pygments_lexer": "ipython3",
   "version": "3.12.7"
  }
 },
 "nbformat": 4,
 "nbformat_minor": 5
}
