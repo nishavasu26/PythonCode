{
 "cells": [
  {
   "cell_type": "code",
   "execution_count": 6,
   "id": "773da42e-e4db-492d-8d36-0e5ee1adb7ae",
   "metadata": {},
   "outputs": [
    {
     "name": "stdout",
     "output_type": "stream",
     "text": [
      "('hello',)\n",
      "(('hello',),)\n",
      "((('hello',),),)\n"
     ]
    }
   ],
   "source": [
    "#looping\n",
    "Tuple=('hello')\n",
    "n=3\n",
    "for i in range(int(n)):\n",
    "     Tuple=(Tuple,)\n",
    "     print(Tuple)"
   ]
  },
  {
   "cell_type": "code",
   "execution_count": 8,
   "id": "5df9501a-3036-49d9-9e40-091c10cb8fcd",
   "metadata": {},
   "outputs": [
    {
     "name": "stdout",
     "output_type": "stream",
     "text": [
      "5\n"
     ]
    }
   ],
   "source": [
    "#built in functions \n",
    "tuple=('developer',5,8.9,'r',8)\n",
    "print(len(tuple))"
   ]
  },
  {
   "cell_type": "code",
   "execution_count": 10,
   "id": "859ad767-f0ff-4a91-aad7-a3dfc941bc2d",
   "metadata": {},
   "outputs": [
    {
     "name": "stdout",
     "output_type": "stream",
     "text": [
      "89\n"
     ]
    }
   ],
   "source": [
    "tuple=(9,5,89,4,8)\n",
    "print(max(tuple))"
   ]
  },
  {
   "cell_type": "code",
   "execution_count": 12,
   "id": "003a9db9-8b4c-48e2-afd1-eed4229ffef8",
   "metadata": {},
   "outputs": [
    {
     "name": "stdout",
     "output_type": "stream",
     "text": [
      "4\n"
     ]
    }
   ],
   "source": [
    "tuple=(9,5,89,4,8)\n",
    "print(min(tuple))"
   ]
  },
  {
   "cell_type": "code",
   "execution_count": 14,
   "id": "c0218a77-72c3-4b40-ab2e-49877551beba",
   "metadata": {},
   "outputs": [
    {
     "name": "stdout",
     "output_type": "stream",
     "text": [
      "115\n"
     ]
    }
   ],
   "source": [
    "tuple=(9,5,89,4,8)\n",
    "print(sum(tuple))"
   ]
  },
  {
   "cell_type": "code",
   "execution_count": 16,
   "id": "47b0e418-d90e-4eda-b9f8-1ba992d0e53f",
   "metadata": {},
   "outputs": [
    {
     "name": "stdout",
     "output_type": "stream",
     "text": [
      "True\n"
     ]
    }
   ],
   "source": [
    "tuple=(4,1)\n",
    "print(all(tuple))\n"
   ]
  },
  {
   "cell_type": "code",
   "execution_count": 18,
   "id": "2edb5138-ec53-4df6-9502-6f2f96249286",
   "metadata": {},
   "outputs": [
    {
     "name": "stdout",
     "output_type": "stream",
     "text": [
      "apple\n",
      "byte\n"
     ]
    }
   ],
   "source": [
    "tuple=(\"apple\",\"byte\",\"computer\")\n",
    "n=2\n",
    "for i in range(n):\n",
    "    print(tuple[i])"
   ]
  },
  {
   "cell_type": "code",
   "execution_count": 20,
   "id": "88878a29-f474-4fc0-a4cd-4d4c44d00079",
   "metadata": {},
   "outputs": [
    {
     "name": "stdout",
     "output_type": "stream",
     "text": [
      "apple\n"
     ]
    }
   ],
   "source": [
    "tuple=(\"apple\",\"byte\",\"computer\")\n",
    "n=2\n",
    "for i in range(n):\n",
    "    print(tuple[i])\n",
    "    break"
   ]
  },
  {
   "cell_type": "code",
   "execution_count": 22,
   "id": "34ed1063-a638-4989-9717-df978c0945b0",
   "metadata": {},
   "outputs": [
    {
     "name": "stdout",
     "output_type": "stream",
     "text": [
      "['apple', 'byte', 'computer']\n"
     ]
    }
   ],
   "source": [
    "tuple=(\"apple\",\"byte\",\"computer\")\n",
    "print(list(tuple))"
   ]
  },
  {
   "cell_type": "code",
   "execution_count": 24,
   "id": "e80a6a0a-090c-4732-a3ff-e451cd7f7574",
   "metadata": {},
   "outputs": [
    {
     "name": "stdout",
     "output_type": "stream",
     "text": [
      "()\n"
     ]
    }
   ],
   "source": [
    "example=()\n",
    "print(example)"
   ]
  },
  {
   "cell_type": "code",
   "execution_count": 26,
   "id": "1cc0abac-7c7e-48e9-909e-50358bd11f84",
   "metadata": {},
   "outputs": [
    {
     "name": "stdout",
     "output_type": "stream",
     "text": [
      "(26, 45, 'mojo')\n"
     ]
    }
   ],
   "source": [
    "value_tuple=(26,45,\"mojo\")\n",
    "print(value_tuple)"
   ]
  },
  {
   "cell_type": "code",
   "execution_count": 28,
   "id": "dc610784-fae4-43f2-b6aa-6b4e321cf737",
   "metadata": {},
   "outputs": [],
   "source": [
    "value_tuple=(26,45,'hello')"
   ]
  },
  {
   "cell_type": "code",
   "execution_count": null,
   "id": "1e1f0d61-ab7d-4646-a511-b8708c326c64",
   "metadata": {},
   "outputs": [],
   "source": [
    "value=(\"a\",)\n"
   ]
  },
  {
   "cell_type": "code",
   "execution_count": 32,
   "id": "59707174-2550-4c08-be06-06ceacb41b9c",
   "metadata": {},
   "outputs": [
    {
     "ename": "NameError",
     "evalue": "name 'mojo' is not defined",
     "output_type": "error",
     "traceback": [
      "\u001b[1;31m---------------------------------------------------------------------------\u001b[0m",
      "\u001b[1;31mNameError\u001b[0m                                 Traceback (most recent call last)",
      "Cell \u001b[1;32mIn[32], line 1\u001b[0m\n\u001b[1;32m----> 1\u001b[0m \u001b[38;5;28mtype\u001b[39m(mojo)\n",
      "\u001b[1;31mNameError\u001b[0m: name 'mojo' is not defined"
     ]
    }
   ],
   "source": [
    "type(mojo)"
   ]
  },
  {
   "cell_type": "code",
   "execution_count": 34,
   "id": "a67e8f30-afb0-4e46-a7ec-73c8a9c5b4ed",
   "metadata": {},
   "outputs": [
    {
     "ename": "NameError",
     "evalue": "name 'value1_tuple' is not defined",
     "output_type": "error",
     "traceback": [
      "\u001b[1;31m---------------------------------------------------------------------------\u001b[0m",
      "\u001b[1;31mNameError\u001b[0m                                 Traceback (most recent call last)",
      "Cell \u001b[1;32mIn[34], line 1\u001b[0m\n\u001b[1;32m----> 1\u001b[0m value_tuple\u001b[38;5;241m=\u001b[39mvalue1_tuple\u001b[38;5;241m+\u001b[39m(\u001b[38;5;241m7\u001b[39m,)\n",
      "\u001b[1;31mNameError\u001b[0m: name 'value1_tuple' is not defined"
     ]
    }
   ],
   "source": [
    "value_tuple=value1_tuple+(7,)\n",
    "\n"
   ]
  },
  {
   "cell_type": "code",
   "execution_count": 36,
   "id": "c00f3284-4b7e-4000-873b-16062fdcf89f",
   "metadata": {},
   "outputs": [],
   "source": [
    "value_tuple=(26,45,'hello')"
   ]
  },
  {
   "cell_type": "code",
   "execution_count": null,
   "id": "7793e16b-7e80-4268-bca7-4fd6cda9d7f1",
   "metadata": {},
   "outputs": [],
   "source": [
    "# program to take tuple values and print it\n",
    "value=()\n",
    "n=int(input())\n",
    "list_1=[]\n",
    "for i in range(n):\n",
    "    list.append(int(input()))\n",
    "value=tuple(list)\n",
    "value\n"
   ]
  },
  {
   "cell_type": "code",
   "execution_count": null,
   "id": "43363972-0c84-4796-bcff-f16f4453acd0",
   "metadata": {},
   "outputs": [],
   "source": []
  }
 ],
 "metadata": {
  "kernelspec": {
   "display_name": "Python 3 (ipykernel)",
   "language": "python",
   "name": "python3"
  },
  "language_info": {
   "codemirror_mode": {
    "name": "ipython",
    "version": 3
   },
   "file_extension": ".py",
   "mimetype": "text/x-python",
   "name": "python",
   "nbconvert_exporter": "python",
   "pygments_lexer": "ipython3",
   "version": "3.12.7"
  }
 },
 "nbformat": 4,
 "nbformat_minor": 5
}
