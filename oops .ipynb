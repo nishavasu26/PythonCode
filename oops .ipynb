{
 "cells": [
  {
   "cell_type": "code",
   "execution_count": 1,
   "id": "5ed0f82f-0e6b-408c-8c94-e3a2f3abbba8",
   "metadata": {},
   "outputs": [
    {
     "name": "stdout",
     "output_type": "stream",
     "text": [
      "welcome to oops concept\n"
     ]
    }
   ],
   "source": [
    "class python:\n",
    "   def fun(self):\n",
    "       print(\"welcome to oops concept\")\n",
    "pyt = python()\n",
    "pyt.fun()"
   ]
  },
  {
   "cell_type": "code",
   "execution_count": 21,
   "id": "fd410db8-f43b-42aa-8cb8-cafb92666e95",
   "metadata": {},
   "outputs": [
    {
     "name": "stdout",
     "output_type": "stream",
     "text": [
      "name: Gwagon id: 2000000\n"
     ]
    }
   ],
   "source": [
    "class Car:\n",
    "    'common_car'\n",
    "    car=0\n",
    "    def __init__(self,name,id):\n",
    "       self.name=name\n",
    "       self.id=id\n",
    "       Car.car+=1\n",
    "    def printcardata(self):\n",
    "        print(\"name:\",self.name,\"id:\",self.id)\n",
    "c=Car(\"Gwagon\" , 2000000)\n",
    "c.printcardata()"
   ]
  },
  {
   "cell_type": "code",
   "execution_count": 30,
   "id": "dcccc591-e8e5-4054-8f98-c92f50eb4fbb",
   "metadata": {},
   "outputs": [],
   "source": [
    "class Employee:\n",
    "    def set_data(self, n,a,s):\n",
    "        self.name = n \n",
    "        self.age = a\n",
    "        self.salary = s\n",
    "    def display_data(self):\n",
    "        print(self.name,self.age,self.salary)"
   ]
  },
  {
   "cell_type": "code",
   "execution_count": 37,
   "id": "7ca69786-f8e5-4ce5-896b-683c08182a6c",
   "metadata": {},
   "outputs": [
    {
     "name": "stdout",
     "output_type": "stream",
     "text": [
      "xxxxxx 26 30000\n"
     ]
    }
   ],
   "source": [
    "e1 = Employee()\n",
    "e1.set_data(\"xxxxxx\",26,30000)\n",
    "e1.display_data() "
   ]
  },
  {
   "cell_type": "code",
   "execution_count": 41,
   "id": "b62c228c-b902-46a4-9b49-c7b8579b1579",
   "metadata": {},
   "outputs": [
    {
     "name": "stdout",
     "output_type": "stream",
     "text": [
      "The Brown Sparrow flaps its wings and takes off!\n",
      "The Brown Sparrow sings a beautiful song.\n",
      "Sparrow - Color: Brown, Wingspan: 20 cm\n"
     ]
    }
   ],
   "source": [
    "class Bird:\n",
    "    def __init__(self, species, color, wingspan):\n",
    "        self.species = species  \n",
    "        self.color = color      \n",
    "        self.wingspan = wingspan  \n",
    "\n",
    "    def fly(self):\n",
    "        return f\"The {self.color} {self.species} flaps its wings and takes off!\"\n",
    "\n",
    "    def sing(self):\n",
    "        return f\"The {self.color} {self.species} sings a beautiful song.\"\n",
    "\n",
    "    def info(self):\n",
    "        return f\"{self.species} - Color: {self.color}, Wingspan: {self.wingspan} cm\"\n",
    "\n",
    "\n",
    "sparrow = Bird(\"Sparrow\", \"Brown\", 20)\n",
    "print(sparrow.fly())\n",
    "print(sparrow.sing())\n",
    "print(sparrow.info())\n"
   ]
  },
  {
   "cell_type": "code",
   "execution_count": 45,
   "id": "7e831771-6215-4b12-86d3-7a397369b870",
   "metadata": {},
   "outputs": [
    {
     "name": "stdout",
     "output_type": "stream",
     "text": [
      "eagle Crow sparrow\n"
     ]
    }
   ],
   "source": [
    "class Birds:\n",
    "    def __init__(self,b1,b2,b3):\n",
    "        self.b1=b1\n",
    "        self.b2=b2\n",
    "        self.b3=b3\n",
    "    def printdata(self):\n",
    "        print(self.b1,self.b2,self.b3)\n",
    "b=Birds(\"eagle\",\"Crow\",\"sparrow\")\n",
    "b.printdata()"
   ]
  },
  {
   "cell_type": "raw",
   "id": "9e90a2ba-a4fd-453e-bf88-724ff5349173",
   "metadata": {},
   "source": [
    "i love uuuuuu"
   ]
  },
  {
   "cell_type": "code",
   "execution_count": 49,
   "id": "c2667708-8da8-4eb2-a831-debe35dc9edc",
   "metadata": {},
   "outputs": [
    {
     "name": "stdout",
     "output_type": "stream",
     "text": [
      "Positive values: 1 2\n",
      "Negative values: -1 -2\n"
     ]
    }
   ],
   "source": [
    "class Numbers:\n",
    "    def __init__(self, pos1, pos2, neg1, neg2):\n",
    "        self.pos1 = pos1\n",
    "        self.pos2 = pos2\n",
    "        self.neg1 = neg1\n",
    "        self.neg2 = neg2\n",
    "\n",
    "    def printdata(self):\n",
    "        print(\"Positive values:\", self.pos1, self.pos2)\n",
    "        print(\"Negative values:\", self.neg1, self.neg2)\n",
    "\n",
    "b = Numbers(1, 2, -1, -2)\n",
    "b.printdata()"
   ]
  },
  {
   "cell_type": "code",
   "execution_count": 55,
   "id": "5efb062d-20b1-4e0a-b855-f4cda8f1e11e",
   "metadata": {},
   "outputs": [
    {
     "name": "stdin",
     "output_type": "stream",
     "text": [
      "enter a number 10 50 88 \n"
     ]
    },
    {
     "ename": "ValueError",
     "evalue": "invalid literal for int() with base 10: '10 50 88 '",
     "output_type": "error",
     "traceback": [
      "\u001b[1;31m---------------------------------------------------------------------------\u001b[0m",
      "\u001b[1;31mValueError\u001b[0m                                Traceback (most recent call last)",
      "Cell \u001b[1;32mIn[55], line 11\u001b[0m\n\u001b[0;32m      7\u001b[0m         \u001b[38;5;28;01melse\u001b[39;00m:\n\u001b[0;32m      8\u001b[0m             \u001b[38;5;28mprint\u001b[39m(\u001b[38;5;124m\"\u001b[39m\u001b[38;5;124mnegative\u001b[39m\u001b[38;5;124m\"\u001b[39m)\n\u001b[1;32m---> 11\u001b[0m n1\u001b[38;5;241m=\u001b[39mNumber(\u001b[38;5;28mint\u001b[39m(\u001b[38;5;28minput\u001b[39m(\u001b[38;5;124m\"\u001b[39m\u001b[38;5;124menter a number\u001b[39m\u001b[38;5;124m\"\u001b[39m)))\n\u001b[0;32m     12\u001b[0m n1\u001b[38;5;241m.\u001b[39mcheck_num()\n",
      "\u001b[1;31mValueError\u001b[0m: invalid literal for int() with base 10: '10 50 88 '"
     ]
    }
   ],
   "source": [
    "class Number:\n",
    "    def __init__(self,n):\n",
    "        self.number=n\n",
    "    def check_num(self):\n",
    "        if self.number>0:\n",
    "            print(\"positive\")\n",
    "        else:\n",
    "            print(\"negative\")\n",
    "\n",
    "\n",
    "n1=Number(int(input(\"enter a number\")))\n",
    "n1.check_num()"
   ]
  },
  {
   "cell_type": "code",
   "execution_count": 57,
   "id": "3b3a2a17-f179-40c8-81fd-09ec69f42794",
   "metadata": {},
   "outputs": [
    {
     "name": "stdout",
     "output_type": "stream",
     "text": [
      "total cars:  3\n",
      "Name: AUDI Id: 2000000\n",
      "Name: BENZ Id: 3000000\n",
      "Name: BMW Id: 1000000\n"
     ]
    }
   ],
   "source": [
    "class car:\n",
    "    'common_car'\n",
    "    car=0\n",
    "    def __init__(self,name,id):\n",
    "        self.name=name\n",
    "        self.id=id\n",
    "        car.car+=1\n",
    "\n",
    "    def printcardata(self):\n",
    "        print(\"Name:\",self.name,\"Id:\",self.id)\n",
    "c=car(\"AUDI\",2000000)\n",
    "c1=car(\"BENZ\",3000000)\n",
    "c2=car(\"BMW\",1000000)\n",
    "print(\"total cars: \",car.car)\n",
    "c.printcardata()\n",
    "c1.printcardata()\n",
    "c2.printcardata()"
   ]
  },
  {
   "cell_type": "markdown",
   "id": "2219d9fc-aa2f-4cbf-93dd-adf6082e0563",
   "metadata": {},
   "source": [
    "# class tests:\n",
    "    def __init__(self):\n",
    "        self.variable = 'car'\n",
    "        self.change(self.variable)\n",
    "    def cahnge(self,var):\n",
    "        self.var = 'Bike'\n",
    "obj=test()\n",
    "print(obj.variable)\n",
    "print(obj.var)"
   ]
  },
  {
   "cell_type": "code",
   "execution_count": 73,
   "id": "5126066e-377e-4025-8e63-38902d558fcd",
   "metadata": {},
   "outputs": [
    {
     "name": "stdin",
     "output_type": "stream",
     "text": [
      "enter a number 10 28 90 \n"
     ]
    },
    {
     "ename": "ValueError",
     "evalue": "invalid literal for int() with base 10: '10 28 90 '",
     "output_type": "error",
     "traceback": [
      "\u001b[1;31m---------------------------------------------------------------------------\u001b[0m",
      "\u001b[1;31mValueError\u001b[0m                                Traceback (most recent call last)",
      "Cell \u001b[1;32mIn[73], line 11\u001b[0m\n\u001b[0;32m      7\u001b[0m         \u001b[38;5;28;01melse\u001b[39;00m:\n\u001b[0;32m      8\u001b[0m             \u001b[38;5;28mprint\u001b[39m(\u001b[38;5;124m\"\u001b[39m\u001b[38;5;124mnegative\u001b[39m\u001b[38;5;124m\"\u001b[39m)\n\u001b[1;32m---> 11\u001b[0m n1\u001b[38;5;241m=\u001b[39mNumber(\u001b[38;5;28mint\u001b[39m(\u001b[38;5;28minput\u001b[39m(\u001b[38;5;124m\"\u001b[39m\u001b[38;5;124menter a number\u001b[39m\u001b[38;5;124m\"\u001b[39m)))\n\u001b[0;32m     12\u001b[0m n1\u001b[38;5;241m.\u001b[39mcheck_num()\n",
      "\u001b[1;31mValueError\u001b[0m: invalid literal for int() with base 10: '10 28 90 '"
     ]
    }
   ],
   "source": [
    "class Number:\n",
    "    def _init_(self,n):\n",
    "        self.number=n\n",
    "    def check_num(self):\n",
    "        if self.number>0:\n",
    "            print(\"positive\")\n",
    "        else:\n",
    "            print(\"negative\")\n",
    "\n",
    "\n",
    "n1=Number(int(input(\"enter a number\")))\n",
    "n1.check_num()"
   ]
  },
  {
   "cell_type": "code",
   "execution_count": 76,
   "id": "06d86028-d8cd-4e74-ba4c-49110557d6fb",
   "metadata": {},
   "outputs": [
    {
     "ename": "SyntaxError",
     "evalue": "invalid syntax (181066936.py, line 6)",
     "output_type": "error",
     "traceback": [
      "\u001b[1;36m  Cell \u001b[1;32mIn[76], line 6\u001b[1;36m\u001b[0m\n\u001b[1;33m    obj=test() print(obj.variable)\u001b[0m\n\u001b[1;37m               ^\u001b[0m\n\u001b[1;31mSyntaxError\u001b[0m\u001b[1;31m:\u001b[0m invalid syntax\n"
     ]
    }
   ],
   "source": [
    "class test:\n",
    "   def __init__(self):\n",
    "       self.variable = 'car'\n",
    "       self.change(self.variable)\n",
    "    def cahnge(self,var):\n",
    "    self.var = 'Bike'\n",
    "obj=test() \n",
    "print(obj.variable)\n",
    "print(obj.var)"
   ]
  },
  {
   "cell_type": "code",
   "execution_count": null,
   "id": "4b5aaf8e-f24e-47f8-9489-d0fc4cb2355e",
   "metadata": {},
   "outputs": [],
   "source": [
    "class Demo:\n",
    "    def __init__(self):\n",
    "        pass\n",
    "\n",
    "    def\n",
    "    "
   ]
  }
 ],
 "metadata": {
  "kernelspec": {
   "display_name": "Python 3 (ipykernel)",
   "language": "python",
   "name": "python3"
  },
  "language_info": {
   "codemirror_mode": {
    "name": "ipython",
    "version": 3
   },
   "file_extension": ".py",
   "mimetype": "text/x-python",
   "name": "python",
   "nbconvert_exporter": "python",
   "pygments_lexer": "ipython3",
   "version": "3.12.7"
  }
 },
 "nbformat": 4,
 "nbformat_minor": 5
}
